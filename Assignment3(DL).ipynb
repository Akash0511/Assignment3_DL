{
 "cells": [
  {
   "cell_type": "markdown",
   "metadata": {},
   "source": [
    "# Assignment - 3 (Deep Learning)\n",
    "### Created by Akash Bhardwaj"
   ]
  },
  {
   "cell_type": "markdown",
   "metadata": {},
   "source": [
    "#### >>Importing the libraries and packages"
   ]
  },
  {
   "cell_type": "code",
   "execution_count": 1,
   "metadata": {},
   "outputs": [
    {
     "name": "stderr",
     "output_type": "stream",
     "text": [
      "Using TensorFlow backend.\n"
     ]
    }
   ],
   "source": [
    "import numpy as np\n",
    "import pandas as pd\n",
    "import matplotlib.pyplot as plt\n",
    "import keras\n",
    "import tensorflow as tf\n",
    "from keras import backend as K\n",
    "from keras.models import Sequential\n",
    "from keras.layers import Dense,Dropout,Flatten,Activation"
   ]
  },
  {
   "cell_type": "markdown",
   "metadata": {},
   "source": [
    "#### >>To load the Dataset"
   ]
  },
  {
   "cell_type": "code",
   "execution_count": 2,
   "metadata": {},
   "outputs": [],
   "source": [
    "data_x=pd.read_pickle('trainX.pickle')\n",
    "data_y=pd.read_pickle('trainY.pickle')"
   ]
  },
  {
   "cell_type": "code",
   "execution_count": 3,
   "metadata": {},
   "outputs": [
    {
     "data": {
      "text/plain": [
       "array([0, 1, 2, 3, 4, 5, 6, 7, 8, 9], dtype=uint8)"
      ]
     },
     "execution_count": 3,
     "metadata": {},
     "output_type": "execute_result"
    }
   ],
   "source": [
    "np.unique(data_y)"
   ]
  },
  {
   "cell_type": "code",
   "execution_count": 4,
   "metadata": {},
   "outputs": [
    {
     "name": "stdout",
     "output_type": "stream",
     "text": [
      "(60000, 28, 28) (60000,)\n"
     ]
    }
   ],
   "source": [
    "print(data_x.shape,data_y.shape)"
   ]
  },
  {
   "cell_type": "code",
   "execution_count": 5,
   "metadata": {},
   "outputs": [],
   "source": [
    "img_rows,img_cols=28,28"
   ]
  },
  {
   "cell_type": "markdown",
   "metadata": {},
   "source": [
    "#### >>Splitting of Dataset"
   ]
  },
  {
   "cell_type": "code",
   "execution_count": 6,
   "metadata": {},
   "outputs": [],
   "source": [
    "x_train=data_x[:40000]\n",
    "x_valid=data_x[40000:50000]\n",
    "x_test=data_x[50000:]\n",
    "y_train=data_y[:40000]\n",
    "y_valid=data_y[40000:50000]\n",
    "y_test=data_y[50000:]"
   ]
  },
  {
   "cell_type": "markdown",
   "metadata": {},
   "source": [
    "#### >>Reshaping of Dataset(train, test and valid)"
   ]
  },
  {
   "cell_type": "code",
   "execution_count": 7,
   "metadata": {},
   "outputs": [
    {
     "data": {
      "text/plain": [
       "(28, 28, 1)"
      ]
     },
     "execution_count": 7,
     "metadata": {},
     "output_type": "execute_result"
    }
   ],
   "source": [
    "x_train=x_train.reshape(x_train.shape[0],img_rows,img_cols,1)\n",
    "x_valid=x_valid.reshape(x_valid.shape[0],img_rows,img_cols,1)\n",
    "x_test=x_test.reshape(x_test.shape[0],img_rows,img_cols,1)\n",
    "input_shape=(img_rows,img_rows,1)\n",
    "input_shape"
   ]
  },
  {
   "cell_type": "markdown",
   "metadata": {},
   "source": [
    "#### >>Defining of batch_size, number of classes and epochs"
   ]
  },
  {
   "cell_type": "code",
   "execution_count": 8,
   "metadata": {},
   "outputs": [],
   "source": [
    "batch_size=128\n",
    "num_classes=10\n",
    "epochs=100"
   ]
  },
  {
   "cell_type": "markdown",
   "metadata": {},
   "source": [
    "#### >>Normalization of Dataset"
   ]
  },
  {
   "cell_type": "code",
   "execution_count": 9,
   "metadata": {},
   "outputs": [
    {
     "name": "stdout",
     "output_type": "stream",
     "text": [
      "x_train shape (40000, 28, 28, 1)\n",
      "x_train shape (10000, 28, 28, 1)\n",
      "x_train shape (10000, 28, 28, 1)\n",
      "40000 train samples\n",
      "10000 valid samples\n",
      "10000 test samples\n"
     ]
    }
   ],
   "source": [
    "x_train=x_train.astype('float32')\n",
    "x_valid=x_valid.astype('float32')\n",
    "x_test=x_test.astype('float32')\n",
    "x_train/=255\n",
    "x_valid/=255\n",
    "x_test/=255\n",
    "print('x_train shape',x_train.shape)\n",
    "print('x_train shape',x_valid.shape)\n",
    "print('x_train shape',x_test.shape)\n",
    "print(x_train.shape[0],'train samples')\n",
    "print(x_valid.shape[0],'valid samples')\n",
    "print(x_test.shape[0],'test samples')\n",
    "\n",
    "y_train=keras.utils.to_categorical(y_train,num_classes)\n",
    "y_valid=keras.utils.to_categorical(y_valid,num_classes)\n",
    "y_test=keras.utils.to_categorical(y_test,num_classes)"
   ]
  },
  {
   "cell_type": "code",
   "execution_count": 11,
   "metadata": {},
   "outputs": [],
   "source": [
    "x_train=np.reshape(x_train,(40000,784))\n",
    "x_valid=np.reshape(x_valid,(10000,784))\n",
    "x_test=np.reshape(x_test,(10000,784))"
   ]
  },
  {
   "cell_type": "markdown",
   "metadata": {},
   "source": [
    "#### >>Create the model"
   ]
  },
  {
   "cell_type": "code",
   "execution_count": 15,
   "metadata": {},
   "outputs": [
    {
     "name": "stdout",
     "output_type": "stream",
     "text": [
      "_________________________________________________________________\n",
      "Layer (type)                 Output Shape              Param #   \n",
      "=================================================================\n",
      "dense_7 (Dense)              (None, 500)               392500    \n",
      "_________________________________________________________________\n",
      "activation_7 (Activation)    (None, 500)               0         \n",
      "_________________________________________________________________\n",
      "dense_8 (Dense)              (None, 300)               150300    \n",
      "_________________________________________________________________\n",
      "activation_8 (Activation)    (None, 300)               0         \n",
      "_________________________________________________________________\n",
      "dense_9 (Dense)              (None, 10)                3010      \n",
      "_________________________________________________________________\n",
      "activation_9 (Activation)    (None, 10)                0         \n",
      "=================================================================\n",
      "Total params: 545,810\n",
      "Trainable params: 545,810\n",
      "Non-trainable params: 0\n",
      "_________________________________________________________________\n"
     ]
    }
   ],
   "source": [
    "model=Sequential()\n",
    "model.add(Dense(500,input_dim=784),)\n",
    "model.add(Activation('relu'))\n",
    "\n",
    "model.add(Dense(300))\n",
    "model.add(Activation('relu'))\n",
    "\n",
    "model.add(Dense(10))\n",
    "model.add(Activation('softmax'))\n",
    "model.summary()\n",
    "model.compile(loss=keras.losses.categorical_crossentropy,optimizer=keras.optimizers.Adadelta(),metrics=['accuracy'])"
   ]
  },
  {
   "cell_type": "markdown",
   "metadata": {},
   "source": [
    "#### >>Fitting up of model(training)"
   ]
  },
  {
   "cell_type": "code",
   "execution_count": 16,
   "metadata": {},
   "outputs": [
    {
     "name": "stdout",
     "output_type": "stream",
     "text": [
      "Train on 40000 samples, validate on 10000 samples\n",
      "Epoch 1/100\n",
      "40000/40000 [==============================] - 11s 281us/step - loss: 0.6177 - acc: 0.7730 - val_loss: 0.5381 - val_acc: 0.7970\n",
      "Epoch 2/100\n",
      "40000/40000 [==============================] - 10s 261us/step - loss: 0.4171 - acc: 0.8450 - val_loss: 0.3759 - val_acc: 0.8653\n",
      "Epoch 3/100\n",
      "40000/40000 [==============================] - 10s 262us/step - loss: 0.3644 - acc: 0.8643 - val_loss: 0.3574 - val_acc: 0.8659\n",
      "Epoch 4/100\n",
      "40000/40000 [==============================] - 11s 266us/step - loss: 0.3327 - acc: 0.8751 - val_loss: 0.3523 - val_acc: 0.8650\n",
      "Epoch 5/100\n",
      "40000/40000 [==============================] - 11s 263us/step - loss: 0.3129 - acc: 0.8832 - val_loss: 0.3589 - val_acc: 0.8708\n",
      "Epoch 6/100\n",
      "40000/40000 [==============================] - 10s 243us/step - loss: 0.2913 - acc: 0.8913 - val_loss: 0.3466 - val_acc: 0.8733\n",
      "Epoch 7/100\n",
      "40000/40000 [==============================] - 10s 247us/step - loss: 0.2760 - acc: 0.8966 - val_loss: 0.3496 - val_acc: 0.8720\n",
      "Epoch 8/100\n",
      "40000/40000 [==============================] - 10s 255us/step - loss: 0.2626 - acc: 0.9001 - val_loss: 0.3821 - val_acc: 0.8523\n",
      "Epoch 9/100\n",
      "40000/40000 [==============================] - 10s 258us/step - loss: 0.2494 - acc: 0.9052 - val_loss: 0.3411 - val_acc: 0.8804\n",
      "Epoch 10/100\n",
      "40000/40000 [==============================] - 10s 260us/step - loss: 0.2385 - acc: 0.9104 - val_loss: 0.3089 - val_acc: 0.8920\n",
      "Epoch 11/100\n",
      "40000/40000 [==============================] - 11s 265us/step - loss: 0.2277 - acc: 0.9125 - val_loss: 0.3371 - val_acc: 0.8834\n",
      "Epoch 12/100\n",
      "40000/40000 [==============================] - 11s 268us/step - loss: 0.2204 - acc: 0.9165 - val_loss: 0.3301 - val_acc: 0.8842\n",
      "Epoch 13/100\n",
      "40000/40000 [==============================] - 11s 270us/step - loss: 0.2078 - acc: 0.9212 - val_loss: 0.3478 - val_acc: 0.8822\n",
      "Epoch 14/100\n",
      "40000/40000 [==============================] - 11s 268us/step - loss: 0.2003 - acc: 0.9230 - val_loss: 0.3668 - val_acc: 0.8817\n",
      "Epoch 15/100\n",
      "40000/40000 [==============================] - 11s 268us/step - loss: 0.1919 - acc: 0.9268 - val_loss: 0.3252 - val_acc: 0.8924\n",
      "Epoch 16/100\n",
      "40000/40000 [==============================] - 11s 271us/step - loss: 0.1852 - acc: 0.9286 - val_loss: 0.3324 - val_acc: 0.8939\n",
      "Epoch 17/100\n",
      "40000/40000 [==============================] - 11s 269us/step - loss: 0.1777 - acc: 0.9322 - val_loss: 0.3274 - val_acc: 0.8961\n",
      "Epoch 18/100\n",
      "40000/40000 [==============================] - 11s 272us/step - loss: 0.1698 - acc: 0.9347 - val_loss: 0.3389 - val_acc: 0.8918\n",
      "Epoch 19/100\n",
      "40000/40000 [==============================] - 11s 266us/step - loss: 0.1649 - acc: 0.9369 - val_loss: 0.4121 - val_acc: 0.8778\n",
      "Epoch 20/100\n",
      "40000/40000 [==============================] - 11s 267us/step - loss: 0.1567 - acc: 0.9402 - val_loss: 0.3769 - val_acc: 0.8880\n",
      "Epoch 21/100\n",
      "40000/40000 [==============================] - 11s 266us/step - loss: 0.1487 - acc: 0.9443 - val_loss: 0.4103 - val_acc: 0.8596\n",
      "Epoch 22/100\n",
      "40000/40000 [==============================] - 11s 266us/step - loss: 0.1466 - acc: 0.9447 - val_loss: 0.3813 - val_acc: 0.8894\n",
      "Epoch 23/100\n",
      "40000/40000 [==============================] - 11s 265us/step - loss: 0.1407 - acc: 0.9459 - val_loss: 0.3982 - val_acc: 0.8882\n",
      "Epoch 24/100\n",
      "40000/40000 [==============================] - 11s 268us/step - loss: 0.1333 - acc: 0.9493 - val_loss: 0.3628 - val_acc: 0.8999\n",
      "Epoch 25/100\n",
      "40000/40000 [==============================] - 11s 266us/step - loss: 0.1289 - acc: 0.9501 - val_loss: 0.4233 - val_acc: 0.8795\n",
      "Epoch 26/100\n",
      "40000/40000 [==============================] - 11s 263us/step - loss: 0.1267 - acc: 0.9508 - val_loss: 0.3660 - val_acc: 0.8971\n",
      "Epoch 27/100\n",
      "40000/40000 [==============================] - 10s 250us/step - loss: 0.1185 - acc: 0.9543 - val_loss: 0.4343 - val_acc: 0.8789- loss: 0.1182 - acc: 0.95\n",
      "Epoch 28/100\n",
      "40000/40000 [==============================] - 10s 249us/step - loss: 0.1165 - acc: 0.9547 - val_loss: 0.4106 - val_acc: 0.8883\n",
      "Epoch 29/100\n",
      "40000/40000 [==============================] - 10s 247us/step - loss: 0.1131 - acc: 0.9568 - val_loss: 0.4555 - val_acc: 0.8774\n",
      "Epoch 30/100\n",
      "40000/40000 [==============================] - 10s 242us/step - loss: 0.1075 - acc: 0.9588 - val_loss: 0.3947 - val_acc: 0.8983\n",
      "Epoch 31/100\n",
      "40000/40000 [==============================] - 10s 240us/step - loss: 0.1033 - acc: 0.9601 - val_loss: 0.4046 - val_acc: 0.8950\n",
      "Epoch 32/100\n",
      "40000/40000 [==============================] - 10s 238us/step - loss: 0.1007 - acc: 0.9612 - val_loss: 0.3807 - val_acc: 0.895809 - - ETA: 1s - loss: 0.1003 - acc: 0 - ETA: 0s - loss: 0.0999\n",
      "Epoch 33/100\n",
      "40000/40000 [==============================] - 10s 239us/step - loss: 0.0943 - acc: 0.9629 - val_loss: 0.4060 - val_acc: 0.9023\n",
      "Epoch 34/100\n",
      "40000/40000 [==============================] - 10s 258us/step - loss: 0.0918 - acc: 0.9652 - val_loss: 0.3974 - val_acc: 0.8963\n",
      "Epoch 35/100\n",
      "40000/40000 [==============================] - 10s 259us/step - loss: 0.0866 - acc: 0.9674 - val_loss: 0.4799 - val_acc: 0.8911\n",
      "Epoch 36/100\n",
      "40000/40000 [==============================] - 9s 236us/step - loss: 0.0862 - acc: 0.9672 - val_loss: 0.4373 - val_acc: 0.8928\n",
      "Epoch 37/100\n",
      "40000/40000 [==============================] - 10s 238us/step - loss: 0.0809 - acc: 0.9686 - val_loss: 0.4528 - val_acc: 0.8792\n",
      "Epoch 38/100\n",
      "40000/40000 [==============================] - 9s 235us/step - loss: 0.0787 - acc: 0.9709 - val_loss: 0.4742 - val_acc: 0.8895\n",
      "Epoch 39/100\n",
      "40000/40000 [==============================] - 10s 238us/step - loss: 0.0763 - acc: 0.9709 - val_loss: 0.4780 - val_acc: 0.8998\n",
      "Epoch 40/100\n",
      "40000/40000 [==============================] - 10s 238us/step - loss: 0.0736 - acc: 0.9720 - val_loss: 0.4506 - val_acc: 0.9022\n",
      "Epoch 41/100\n",
      "40000/40000 [==============================] - 9s 235us/step - loss: 0.0691 - acc: 0.9736 - val_loss: 0.4578 - val_acc: 0.8982\n",
      "Epoch 42/100\n",
      "40000/40000 [==============================] - 9s 235us/step - loss: 0.0684 - acc: 0.9741 - val_loss: 0.5006 - val_acc: 0.8912\n",
      "Epoch 43/100\n",
      "40000/40000 [==============================] - 9s 235us/step - loss: 0.0672 - acc: 0.9753 - val_loss: 0.4402 - val_acc: 0.9013\n",
      "Epoch 44/100\n",
      "40000/40000 [==============================] - 10s 238us/step - loss: 0.0645 - acc: 0.9756 - val_loss: 0.4715 - val_acc: 0.8974\n",
      "Epoch 45/100\n",
      "40000/40000 [==============================] - 10s 241us/step - loss: 0.0605 - acc: 0.9774 - val_loss: 0.4846 - val_acc: 0.8990\n",
      "Epoch 46/100\n",
      "40000/40000 [==============================] - 10s 248us/step - loss: 0.0593 - acc: 0.9774 - val_loss: 0.5055 - val_acc: 0.8938\n",
      "Epoch 47/100\n",
      "40000/40000 [==============================] - 9s 237us/step - loss: 0.0561 - acc: 0.9784 - val_loss: 0.4969 - val_acc: 0.8964\n",
      "Epoch 48/100\n",
      "40000/40000 [==============================] - 9s 232us/step - loss: 0.0545 - acc: 0.9795 - val_loss: 0.5990 - val_acc: 0.8887\n",
      "Epoch 49/100\n",
      "40000/40000 [==============================] - 9s 231us/step - loss: 0.0542 - acc: 0.9790 - val_loss: 0.4986 - val_acc: 0.9009oss: 0.0540 - acc: 0.\n",
      "Epoch 50/100\n",
      "40000/40000 [==============================] - 9s 233us/step - loss: 0.0516 - acc: 0.9807 - val_loss: 0.5206 - val_acc: 0.9028\n",
      "Epoch 51/100\n",
      "40000/40000 [==============================] - 9s 222us/step - loss: 0.0497 - acc: 0.9810 - val_loss: 0.5007 - val_acc: 0.9003\n",
      "Epoch 52/100\n",
      "40000/40000 [==============================] - 10s 254us/step - loss: 0.0465 - acc: 0.9822 - val_loss: 0.5479 - val_acc: 0.8985\n",
      "Epoch 53/100\n",
      "40000/40000 [==============================] - 10s 242us/step - loss: 0.0463 - acc: 0.9819 - val_loss: 0.5819 - val_acc: 0.8884\n",
      "Epoch 54/100\n",
      "40000/40000 [==============================] - 10s 245us/step - loss: 0.0436 - acc: 0.9837 - val_loss: 0.5368 - val_acc: 0.9032\n",
      "Epoch 55/100\n",
      "40000/40000 [==============================] - 9s 237us/step - loss: 0.0443 - acc: 0.9837 - val_loss: 0.5331 - val_acc: 0.9038\n",
      "Epoch 56/100\n",
      "40000/40000 [==============================] - 10s 238us/step - loss: 0.0426 - acc: 0.9839 - val_loss: 0.6517 - val_acc: 0.8828\n",
      "Epoch 57/100\n",
      "40000/40000 [==============================] - 10s 239us/step - loss: 0.0407 - acc: 0.9850 - val_loss: 0.5567 - val_acc: 0.8899\n",
      "Epoch 58/100\n",
      "40000/40000 [==============================] - 9s 237us/step - loss: 0.0384 - acc: 0.9853 - val_loss: 0.5654 - val_acc: 0.9046\n",
      "Epoch 59/100\n",
      "40000/40000 [==============================] - 9s 235us/step - loss: 0.0374 - acc: 0.9854 - val_loss: 0.5964 - val_acc: 0.8993\n",
      "Epoch 60/100\n",
      "40000/40000 [==============================] - 9s 231us/step - loss: 0.0360 - acc: 0.9869 - val_loss: 0.5922 - val_acc: 0.8968\n",
      "Epoch 61/100\n",
      "40000/40000 [==============================] - 10s 238us/step - loss: 0.0334 - acc: 0.9877 - val_loss: 0.5587 - val_acc: 0.8975\n",
      "Epoch 62/100\n",
      "40000/40000 [==============================] - 7s 184us/step - loss: 0.0329 - acc: 0.9875 - val_loss: 0.8038 - val_acc: 0.8672\n",
      "Epoch 63/100\n",
      "40000/40000 [==============================] - 8s 210us/step - loss: 0.0328 - acc: 0.9879 - val_loss: 0.5645 - val_acc: 0.9023\n",
      "Epoch 64/100\n",
      "40000/40000 [==============================] - 10s 258us/step - loss: 0.0322 - acc: 0.9884 - val_loss: 0.6018 - val_acc: 0.8957\n",
      "Epoch 65/100\n",
      "40000/40000 [==============================] - 9s 237us/step - loss: 0.0309 - acc: 0.9889 - val_loss: 0.6068 - val_acc: 0.8963\n",
      "Epoch 66/100\n",
      "40000/40000 [==============================] - 10s 238us/step - loss: 0.0320 - acc: 0.9882 - val_loss: 0.6208 - val_acc: 0.9013\n",
      "Epoch 67/100\n",
      "40000/40000 [==============================] - 10s 241us/step - loss: 0.0285 - acc: 0.9889 - val_loss: 0.6974 - val_acc: 0.8910\n",
      "Epoch 68/100\n",
      "40000/40000 [==============================] - 11s 273us/step - loss: 0.0327 - acc: 0.9886 - val_loss: 0.6113 - val_acc: 0.9025\n",
      "Epoch 69/100\n",
      "40000/40000 [==============================] - 10s 261us/step - loss: 0.0283 - acc: 0.9893 - val_loss: 0.6201 - val_acc: 0.9009\n",
      "Epoch 70/100\n",
      "40000/40000 [==============================] - 10s 257us/step - loss: 0.0264 - acc: 0.9906 - val_loss: 0.5954 - val_acc: 0.9005\n",
      "Epoch 71/100\n",
      "40000/40000 [==============================] - 10s 256us/step - loss: 0.0246 - acc: 0.9911 - val_loss: 0.7164 - val_acc: 0.9001\n",
      "Epoch 72/100\n",
      "40000/40000 [==============================] - 10s 261us/step - loss: 0.0273 - acc: 0.9905 - val_loss: 0.6114 - val_acc: 0.9018\n",
      "Epoch 73/100\n",
      "40000/40000 [==============================] - 10s 258us/step - loss: 0.0237 - acc: 0.9912 - val_loss: 0.6541 - val_acc: 0.8964\n",
      "Epoch 74/100\n",
      "40000/40000 [==============================] - 11s 269us/step - loss: 0.0265 - acc: 0.9907 - val_loss: 0.6601 - val_acc: 0.8974\n",
      "Epoch 75/100\n",
      "40000/40000 [==============================] - 11s 266us/step - loss: 0.0225 - acc: 0.9921 - val_loss: 0.6653 - val_acc: 0.8915\n",
      "Epoch 76/100\n",
      "40000/40000 [==============================] - 11s 269us/step - loss: 0.0192 - acc: 0.9934 - val_loss: 0.6784 - val_acc: 0.8984\n",
      "Epoch 77/100\n",
      "40000/40000 [==============================] - 11s 268us/step - loss: 0.0244 - acc: 0.9921 - val_loss: 0.6581 - val_acc: 0.9016\n",
      "Epoch 78/100\n",
      "40000/40000 [==============================] - 11s 265us/step - loss: 0.0221 - acc: 0.9919 - val_loss: 0.6563 - val_acc: 0.8928\n",
      "Epoch 79/100\n",
      "40000/40000 [==============================] - 11s 267us/step - loss: 0.0229 - acc: 0.9919 - val_loss: 0.6549 - val_acc: 0.9039\n",
      "Epoch 80/100\n",
      "40000/40000 [==============================] - 10s 262us/step - loss: 0.0216 - acc: 0.9923 - val_loss: 0.6942 - val_acc: 0.9002\n",
      "Epoch 81/100\n",
      "40000/40000 [==============================] - 11s 268us/step - loss: 0.0190 - acc: 0.9937 - val_loss: 0.6601 - val_acc: 0.9027\n",
      "Epoch 82/100\n",
      "40000/40000 [==============================] - 11s 269us/step - loss: 0.0179 - acc: 0.9936 - val_loss: 0.7264 - val_acc: 0.8983\n",
      "Epoch 83/100\n",
      "40000/40000 [==============================] - 11s 269us/step - loss: 0.0152 - acc: 0.9947 - val_loss: 0.6542 - val_acc: 0.9037\n",
      "Epoch 84/100\n",
      "40000/40000 [==============================] - 11s 269us/step - loss: 0.0176 - acc: 0.9935 - val_loss: 0.7238 - val_acc: 0.8942\n",
      "Epoch 85/100\n",
      "40000/40000 [==============================] - 11s 269us/step - loss: 0.0185 - acc: 0.9933 - val_loss: 0.6948 - val_acc: 0.9038\n",
      "Epoch 86/100\n",
      "40000/40000 [==============================] - 11s 267us/step - loss: 0.0182 - acc: 0.9937 - val_loss: 0.7374 - val_acc: 0.8972\n",
      "Epoch 87/100\n",
      "40000/40000 [==============================] - 11s 265us/step - loss: 0.0157 - acc: 0.9947 - val_loss: 0.7023 - val_acc: 0.9037\n",
      "Epoch 88/100\n",
      "40000/40000 [==============================] - 11s 265us/step - loss: 0.0146 - acc: 0.9950 - val_loss: 0.6834 - val_acc: 0.9027\n",
      "Epoch 89/100\n",
      "40000/40000 [==============================] - 11s 267us/step - loss: 0.0161 - acc: 0.9946 - val_loss: 0.7818 - val_acc: 0.8847\n",
      "Epoch 90/100\n",
      "40000/40000 [==============================] - 11s 281us/step - loss: 0.0146 - acc: 0.9946 - val_loss: 0.6839 - val_acc: 0.9025\n",
      "Epoch 91/100\n",
      "40000/40000 [==============================] - 11s 272us/step - loss: 0.0162 - acc: 0.9943 - val_loss: 0.6962 - val_acc: 0.9020\n",
      "Epoch 92/100\n",
      "40000/40000 [==============================] - 11s 271us/step - loss: 0.0146 - acc: 0.9946 - val_loss: 0.7106 - val_acc: 0.9014\n",
      "Epoch 93/100\n",
      "40000/40000 [==============================] - 11s 271us/step - loss: 0.0155 - acc: 0.9948 - val_loss: 0.7036 - val_acc: 0.9015\n",
      "Epoch 94/100\n",
      "40000/40000 [==============================] - 11s 267us/step - loss: 0.0145 - acc: 0.9953 - val_loss: 0.7005 - val_acc: 0.9013\n",
      "Epoch 95/100\n",
      "40000/40000 [==============================] - 10s 246us/step - loss: 0.0133 - acc: 0.9954 - val_loss: 0.6975 - val_acc: 0.9004\n",
      "Epoch 96/100\n",
      "40000/40000 [==============================] - 8s 198us/step - loss: 0.0134 - acc: 0.9955 - val_loss: 0.7445 - val_acc: 0.9007\n",
      "Epoch 97/100\n",
      "40000/40000 [==============================] - 8s 201us/step - loss: 0.0145 - acc: 0.9953 - val_loss: 0.7569 - val_acc: 0.8977\n",
      "Epoch 98/100\n",
      "40000/40000 [==============================] - 9s 229us/step - loss: 0.0124 - acc: 0.9961 - val_loss: 0.7328 - val_acc: 0.8991\n",
      "Epoch 99/100\n",
      "40000/40000 [==============================] - 10s 262us/step - loss: 0.0124 - acc: 0.9958 - val_loss: 0.7714 - val_acc: 0.8969\n",
      "Epoch 100/100\n",
      "40000/40000 [==============================] - 8s 191us/step - loss: 0.0154 - acc: 0.9948 - val_loss: 0.7318 - val_acc: 0.9042\n",
      "Test loss:  0.7306986971914768\n",
      "Test accuracy:  0.8976\n"
     ]
    }
   ],
   "source": [
    "history = model.fit(x_train,y_train,batch_size=batch_size,epochs=100,verbose=1,validation_data=(x_valid,y_valid))\n",
    "\n",
    "score=model.evaluate(x_test,y_test,verbose=0)\n",
    "print('Test loss: ',score[0])\n",
    "print('Test accuracy: ',score[1])"
   ]
  },
  {
   "cell_type": "markdown",
   "metadata": {},
   "source": [
    "#### >>Visualization of Accuracy and loss"
   ]
  },
  {
   "cell_type": "code",
   "execution_count": 17,
   "metadata": {},
   "outputs": [
    {
     "data": {
      "image/png": "[encoded data removed]",
      "text/plain": [
       "<Figure size 432x288 with 1 Axes>"
      ]
     },
     "metadata": {
      "needs_background": "light"
     },
     "output_type": "display_data"
    },
    {
     "data": {
      "image/png": "[encoded data removed]",
      "text/plain": [
       "<Figure size 432x288 with 1 Axes>"
      ]
     },
     "metadata": {
      "needs_background": "light"
     },
     "output_type": "display_data"
    }
   ],
   "source": [
    "import matplotlib.pyplot as plt\n",
    "%matplotlib inline\n",
    "accuracy = history.history['acc']\n",
    "val_accuracy = history.history['val_acc']\n",
    "loss = history.history['loss']\n",
    "val_loss = history.history['val_loss']\n",
    "epochs = range(len(accuracy))\n",
    "plt.plot(epochs, accuracy, 'bo', label='Training accuracy')\n",
    "plt.plot(epochs, val_accuracy, 'b', label='Validation accuracy')\n",
    "plt.title('Training and validation accuracy')\n",
    "plt.legend()\n",
    "plt.figure()\n",
    "plt.plot(epochs, loss, 'bo', label='Training loss')\n",
    "plt.plot(epochs, val_loss, 'b', label='Validation loss')\n",
    "plt.title('Training and validation loss')\n",
    "plt.legend()\n",
    "plt.show()"
   ]
  },
  {
   "cell_type": "markdown",
   "metadata": {},
   "source": [
    "## Applying the CNN (Convolution Neural Network) model"
   ]
  },
  {
   "cell_type": "markdown",
   "metadata": {},
   "source": [
    "#### >>To load the Dataset"
   ]
  },
  {
   "cell_type": "code",
   "execution_count": 18,
   "metadata": {},
   "outputs": [],
   "source": [
    "data_x=pd.read_pickle('trainX.pickle')\n",
    "data_y=pd.read_pickle('trainY.pickle')"
   ]
  },
  {
   "cell_type": "code",
   "execution_count": 19,
   "metadata": {},
   "outputs": [],
   "source": [
    "img_rows,img_cols=28,28"
   ]
  },
  {
   "cell_type": "markdown",
   "metadata": {},
   "source": [
    "#### >>Splitting up of dataset"
   ]
  },
  {
   "cell_type": "code",
   "execution_count": 21,
   "metadata": {},
   "outputs": [],
   "source": [
    "from sklearn.model_selection import train_test_split\n",
    "input_shape = (img_rows, img_cols, 1)\n",
    "\n",
    "#Here we split validation data to optimiza classifier during training\n",
    "x_train=data_x[:40000]\n",
    "x_valid=data_x[40000:50000]\n",
    "x_test=data_x[50000:]\n",
    "y_train=data_y[:40000]\n",
    "y_valid=data_y[40000:50000]\n",
    "y_test=data_y[50000:]"
   ]
  },
  {
   "cell_type": "markdown",
   "metadata": {},
   "source": [
    "#### >>Normalization of dataset"
   ]
  },
  {
   "cell_type": "code",
   "execution_count": 22,
   "metadata": {},
   "outputs": [],
   "source": [
    "x_train = x_train.reshape(x_train.shape[0], img_rows, img_cols, 1)\n",
    "x_test = x_test.reshape(x_test.shape[0], img_rows, img_cols, 1)\n",
    "x_valid = x_valid.reshape(x_valid.shape[0], img_rows, img_cols, 1)\n",
    "\n",
    "x_train = x_train.astype('float32')\n",
    "x_test = x_test.astype('float32')\n",
    "x_valid = x_valid.astype('float32')\n",
    "x_train /= 255\n",
    "x_test /= 255\n",
    "x_valid /= 255\n",
    "\n",
    "y_train=keras.utils.to_categorical(y_train,num_classes)\n",
    "y_valid=keras.utils.to_categorical(y_valid,num_classes)\n",
    "y_test=keras.utils.to_categorical(y_test,num_classes)"
   ]
  },
  {
   "cell_type": "code",
   "execution_count": 23,
   "metadata": {},
   "outputs": [],
   "source": [
    "#input image dimensions\n",
    "img_rows, img_cols = 28, 28"
   ]
  },
  {
   "cell_type": "markdown",
   "metadata": {},
   "source": [
    "#### >>Defining the batch_size, number of classes and epochs"
   ]
  },
  {
   "cell_type": "code",
   "execution_count": 24,
   "metadata": {},
   "outputs": [],
   "source": [
    "batch_size = 256\n",
    "num_classes = 10\n",
    "epochs = 50"
   ]
  },
  {
   "cell_type": "markdown",
   "metadata": {},
   "source": [
    "#### >>Create the CNN model"
   ]
  },
  {
   "cell_type": "code",
   "execution_count": 26,
   "metadata": {},
   "outputs": [],
   "source": [
    "from keras.models import Sequential\n",
    "from keras.layers import Dense, Dropout, Flatten\n",
    "from keras.layers import Conv2D, MaxPooling2D\n",
    "from keras.layers.normalization import BatchNormalization\n",
    "\n",
    "model = Sequential()\n",
    "model.add(Conv2D(32, kernel_size=(3, 3),\n",
    "                 activation='relu',\n",
    "                 kernel_initializer='he_normal',\n",
    "                 input_shape=input_shape))\n",
    "model.add(MaxPooling2D((2, 2)))\n",
    "model.add(Dropout(0.25))\n",
    "model.add(Conv2D(64, (3, 3), activation='relu'))\n",
    "model.add(MaxPooling2D(pool_size=(2, 2)))\n",
    "model.add(Dropout(0.25))\n",
    "model.add(Conv2D(128, (3, 3), activation='relu'))\n",
    "model.add(Dropout(0.4))\n",
    "model.add(Flatten())\n",
    "model.add(Dense(128, activation='relu'))\n",
    "model.add(Dropout(0.3))\n",
    "model.add(Dense(num_classes, activation='softmax'))\n",
    "\n",
    "model.compile(loss=keras.losses.categorical_crossentropy,\n",
    "              optimizer=keras.optimizers.Adam(),\n",
    "              metrics=['accuracy'])\n"
   ]
  },
  {
   "cell_type": "markdown",
   "metadata": {},
   "source": [
    "#### >>Fitting up of CNN model (training)"
   ]
  },
  {
   "cell_type": "code",
   "execution_count": 27,
   "metadata": {},
   "outputs": [
    {
     "name": "stdout",
     "output_type": "stream",
     "text": [
      "Train on 40000 samples, validate on 10000 samples\n",
      "Epoch 1/50\n",
      "40000/40000 [==============================] - 50s 1ms/step - loss: 0.8725 - acc: 0.6772 - val_loss: 0.5096 - val_acc: 0.8209\n",
      "Epoch 2/50\n",
      "40000/40000 [==============================] - 49s 1ms/step - loss: 0.5173 - acc: 0.8082 - val_loss: 0.4150 - val_acc: 0.8499\n",
      "Epoch 3/50\n",
      "40000/40000 [==============================] - 49s 1ms/step - loss: 0.4388 - acc: 0.8391 - val_loss: 0.3544 - val_acc: 0.8762\n",
      "Epoch 4/50\n",
      "40000/40000 [==============================] - 49s 1ms/step - loss: 0.3944 - acc: 0.8550 - val_loss: 0.3218 - val_acc: 0.8845\n",
      "Epoch 5/50\n",
      "40000/40000 [==============================] - 51s 1ms/step - loss: 0.3688 - acc: 0.8667 - val_loss: 0.3178 - val_acc: 0.8853\n",
      "Epoch 6/50\n",
      "40000/40000 [==============================] - 49s 1ms/step - loss: 0.3449 - acc: 0.8747 - val_loss: 0.2996 - val_acc: 0.8903\n",
      "Epoch 7/50\n",
      "40000/40000 [==============================] - 49s 1ms/step - loss: 0.3305 - acc: 0.8802 - val_loss: 0.2839 - val_acc: 0.8975\n",
      "Epoch 8/50\n",
      "40000/40000 [==============================] - 49s 1ms/step - loss: 0.3179 - acc: 0.8845 - val_loss: 0.2776 - val_acc: 0.9016\n",
      "Epoch 9/50\n",
      "40000/40000 [==============================] - 49s 1ms/step - loss: 0.3073 - acc: 0.8867 - val_loss: 0.2699 - val_acc: 0.9032\n",
      "Epoch 10/50\n",
      "40000/40000 [==============================] - 49s 1ms/step - loss: 0.2995 - acc: 0.8891 - val_loss: 0.2632 - val_acc: 0.9052\n",
      "Epoch 11/50\n",
      "40000/40000 [==============================] - 49s 1ms/step - loss: 0.2894 - acc: 0.8945 - val_loss: 0.2581 - val_acc: 0.9053\n",
      "Epoch 12/50\n",
      "40000/40000 [==============================] - 50s 1ms/step - loss: 0.2797 - acc: 0.8957 - val_loss: 0.2672 - val_acc: 0.9033\n",
      "Epoch 13/50\n",
      "40000/40000 [==============================] - 49s 1ms/step - loss: 0.2741 - acc: 0.8995 - val_loss: 0.2646 - val_acc: 0.9047\n",
      "Epoch 14/50\n",
      "40000/40000 [==============================] - 49s 1ms/step - loss: 0.2700 - acc: 0.8994 - val_loss: 0.2498 - val_acc: 0.9087\n",
      "Epoch 15/50\n",
      "40000/40000 [==============================] - 49s 1ms/step - loss: 0.2592 - acc: 0.9041 - val_loss: 0.2424 - val_acc: 0.9133\n",
      "Epoch 16/50\n",
      "40000/40000 [==============================] - 49s 1ms/step - loss: 0.2586 - acc: 0.9056 - val_loss: 0.2459 - val_acc: 0.9097\n",
      "Epoch 17/50\n",
      "40000/40000 [==============================] - 49s 1ms/step - loss: 0.2511 - acc: 0.9079 - val_loss: 0.2380 - val_acc: 0.9139\n",
      "Epoch 18/50\n",
      "40000/40000 [==============================] - 49s 1ms/step - loss: 0.2475 - acc: 0.9080 - val_loss: 0.2437 - val_acc: 0.9123\n",
      "Epoch 19/50\n",
      "40000/40000 [==============================] - 49s 1ms/step - loss: 0.2474 - acc: 0.9077 - val_loss: 0.2348 - val_acc: 0.9157\n",
      "Epoch 20/50\n",
      "40000/40000 [==============================] - 49s 1ms/step - loss: 0.2394 - acc: 0.9106 - val_loss: 0.2429 - val_acc: 0.9111\n",
      "Epoch 21/50\n",
      "40000/40000 [==============================] - 49s 1ms/step - loss: 0.2343 - acc: 0.9110 - val_loss: 0.2334 - val_acc: 0.9159\n",
      "Epoch 22/50\n",
      "40000/40000 [==============================] - 49s 1ms/step - loss: 0.2327 - acc: 0.9127 - val_loss: 0.2382 - val_acc: 0.9137\n",
      "Epoch 23/50\n",
      "40000/40000 [==============================] - 49s 1ms/step - loss: 0.2281 - acc: 0.9136 - val_loss: 0.2419 - val_acc: 0.9140\n",
      "Epoch 24/50\n",
      "40000/40000 [==============================] - 50s 1ms/step - loss: 0.2257 - acc: 0.9143 - val_loss: 0.2374 - val_acc: 0.9155\n",
      "Epoch 25/50\n",
      "40000/40000 [==============================] - 49s 1ms/step - loss: 0.2229 - acc: 0.9172 - val_loss: 0.2265 - val_acc: 0.9177\n",
      "Epoch 26/50\n",
      "40000/40000 [==============================] - 50s 1ms/step - loss: 0.2233 - acc: 0.9158 - val_loss: 0.2350 - val_acc: 0.9136\n",
      "Epoch 27/50\n",
      "40000/40000 [==============================] - 49s 1ms/step - loss: 0.2185 - acc: 0.9187 - val_loss: 0.2314 - val_acc: 0.9173\n",
      "Epoch 28/50\n",
      "40000/40000 [==============================] - 49s 1ms/step - loss: 0.2146 - acc: 0.9187 - val_loss: 0.2323 - val_acc: 0.9170\n",
      "Epoch 29/50\n",
      "40000/40000 [==============================] - 50s 1ms/step - loss: 0.2124 - acc: 0.9208 - val_loss: 0.2390 - val_acc: 0.9139\n",
      "Epoch 30/50\n",
      "40000/40000 [==============================] - 50s 1ms/step - loss: 0.2141 - acc: 0.9189 - val_loss: 0.2391 - val_acc: 0.9149\n",
      "Epoch 31/50\n",
      "40000/40000 [==============================] - 49s 1ms/step - loss: 0.2086 - acc: 0.9213 - val_loss: 0.2308 - val_acc: 0.9180\n",
      "Epoch 32/50\n",
      "40000/40000 [==============================] - 49s 1ms/step - loss: 0.2053 - acc: 0.9220 - val_loss: 0.2370 - val_acc: 0.9142\n",
      "Epoch 33/50\n",
      "40000/40000 [==============================] - 51s 1ms/step - loss: 0.2083 - acc: 0.9221 - val_loss: 0.2300 - val_acc: 0.9185\n",
      "Epoch 34/50\n",
      "40000/40000 [==============================] - 49s 1ms/step - loss: 0.2025 - acc: 0.9236 - val_loss: 0.2293 - val_acc: 0.9191\n",
      "Epoch 35/50\n",
      "40000/40000 [==============================] - 49s 1ms/step - loss: 0.2021 - acc: 0.9233 - val_loss: 0.2235 - val_acc: 0.9220\n",
      "Epoch 36/50\n",
      "40000/40000 [==============================] - 49s 1ms/step - loss: 0.1994 - acc: 0.9249 - val_loss: 0.2272 - val_acc: 0.9191\n",
      "Epoch 37/50\n",
      "40000/40000 [==============================] - 50s 1ms/step - loss: 0.2007 - acc: 0.9238 - val_loss: 0.2265 - val_acc: 0.9210\n",
      "Epoch 38/50\n",
      "40000/40000 [==============================] - 49s 1ms/step - loss: 0.1932 - acc: 0.9261 - val_loss: 0.2211 - val_acc: 0.9229\n",
      "Epoch 39/50\n",
      "40000/40000 [==============================] - 49s 1ms/step - loss: 0.1933 - acc: 0.9251 - val_loss: 0.2274 - val_acc: 0.9196\n",
      "Epoch 40/50\n",
      "40000/40000 [==============================] - 49s 1ms/step - loss: 0.1941 - acc: 0.9274 - val_loss: 0.2244 - val_acc: 0.9213\n",
      "Epoch 41/50\n",
      "40000/40000 [==============================] - 50s 1ms/step - loss: 0.1907 - acc: 0.9279 - val_loss: 0.2248 - val_acc: 0.9238\n",
      "Epoch 42/50\n",
      "40000/40000 [==============================] - 50s 1ms/step - loss: 0.1907 - acc: 0.9284 - val_loss: 0.2262 - val_acc: 0.9196\n",
      "Epoch 43/50\n",
      "40000/40000 [==============================] - 50s 1ms/step - loss: 0.1955 - acc: 0.9261 - val_loss: 0.2245 - val_acc: 0.9204\n",
      "Epoch 44/50\n",
      "40000/40000 [==============================] - 50s 1ms/step - loss: 0.1861 - acc: 0.9300 - val_loss: 0.2273 - val_acc: 0.9212\n",
      "Epoch 45/50\n",
      "40000/40000 [==============================] - 50s 1ms/step - loss: 0.1870 - acc: 0.9278 - val_loss: 0.2277 - val_acc: 0.9224\n",
      "Epoch 46/50\n",
      "40000/40000 [==============================] - 50s 1ms/step - loss: 0.1880 - acc: 0.9286 - val_loss: 0.2207 - val_acc: 0.9239\n",
      "Epoch 47/50\n",
      "40000/40000 [==============================] - 52s 1ms/step - loss: 0.1838 - acc: 0.9297 - val_loss: 0.2241 - val_acc: 0.9224\n",
      "Epoch 48/50\n",
      "40000/40000 [==============================] - 50s 1ms/step - loss: 0.1805 - acc: 0.9306 - val_loss: 0.2251 - val_acc: 0.9210\n",
      "Epoch 49/50\n",
      "40000/40000 [==============================] - 52s 1ms/step - loss: 0.1820 - acc: 0.9308 - val_loss: 0.2244 - val_acc: 0.9236\n",
      "Epoch 50/50\n",
      "40000/40000 [==============================] - 50s 1ms/step - loss: 0.1812 - acc: 0.9308 - val_loss: 0.2241 - val_acc: 0.9237\n",
      "Test loss: 0.21514683286249636\n",
      "Test accuracy: 0.921\n"
     ]
    }
   ],
   "source": [
    "history = model.fit(x_train, y_train,\n",
    "          batch_size=batch_size,\n",
    "          epochs=epochs,\n",
    "          verbose=1,\n",
    "          validation_data=(x_valid, y_valid))\n",
    "score = model.evaluate(x_test, y_test, verbose=0)\n",
    "print('Test loss:', score[0])\n",
    "print('Test accuracy:', score[1])"
   ]
  },
  {
   "cell_type": "markdown",
   "metadata": {},
   "source": [
    "#### >>Visualization of Accuracy and loss"
   ]
  },
  {
   "cell_type": "code",
   "execution_count": 28,
   "metadata": {},
   "outputs": [
    {
     "data": {
      "image/png": "[encoded data removed]",
      "text/plain": [
       "<Figure size 432x288 with 1 Axes>"
      ]
     },
     "metadata": {
      "needs_background": "light"
     },
     "output_type": "display_data"
    },
    {
     "data": {
      "image/png": "[encoded data removed]",
      "text/plain": [
       "<Figure size 432x288 with 1 Axes>"
      ]
     },
     "metadata": {
      "needs_background": "light"
     },
     "output_type": "display_data"
    }
   ],
   "source": [
    "import matplotlib.pyplot as plt\n",
    "%matplotlib inline\n",
    "accuracy = history.history['acc']\n",
    "val_accuracy = history.history['val_acc']\n",
    "loss = history.history['loss']\n",
    "val_loss = history.history['val_loss']\n",
    "epochs = range(len(accuracy))\n",
    "plt.plot(epochs, accuracy, 'bo', label='Training accuracy')\n",
    "plt.plot(epochs, val_accuracy, 'b', label='Validation accuracy')\n",
    "plt.title('Training and validation accuracy')\n",
    "plt.legend()\n",
    "plt.figure()\n",
    "plt.plot(epochs, loss, 'bo', label='Training loss')\n",
    "plt.plot(epochs, val_loss, 'b', label='Validation loss')\n",
    "plt.title('Training and validation loss')\n",
    "plt.legend()\n",
    "plt.show()"
   ]
  },
  {
   "cell_type": "markdown",
   "metadata": {},
   "source": [
    "#### >>Save the model"
   ]
  },
  {
   "cell_type": "code",
   "execution_count": 29,
   "metadata": {},
   "outputs": [],
   "source": [
    "model.save('Ass3DL.model')"
   ]
  },
  {
   "cell_type": "markdown",
   "metadata": {},
   "source": [
    "#### >>Load the testX.pickle file"
   ]
  },
  {
   "cell_type": "code",
   "execution_count": 30,
   "metadata": {},
   "outputs": [
    {
     "name": "stdout",
     "output_type": "stream",
     "text": [
      "(10000, 28, 28)\n"
     ]
    }
   ],
   "source": [
    "test_x=pd.read_pickle('testX.pickle')\n",
    "print(test_x.shape)"
   ]
  },
  {
   "cell_type": "markdown",
   "metadata": {},
   "source": [
    "#### >>Reshape the testX dataset and normalization"
   ]
  },
  {
   "cell_type": "code",
   "execution_count": 31,
   "metadata": {},
   "outputs": [
    {
     "name": "stdout",
     "output_type": "stream",
     "text": [
      "test_x shape (10000, 28, 28, 1)\n",
      "10000 test samples\n"
     ]
    }
   ],
   "source": [
    "test_x=test_x.reshape(test_x.shape[0],img_rows,img_cols,1)\n",
    "test_x=test_x.astype('float32')\n",
    "test_x/=255\n",
    "print('test_x shape',test_x.shape)\n",
    "print(test_x.shape[0],'test samples')"
   ]
  },
  {
   "cell_type": "markdown",
   "metadata": {},
   "source": [
    "#### >>To predict the classes and save it to test_y"
   ]
  },
  {
   "cell_type": "code",
   "execution_count": 32,
   "metadata": {},
   "outputs": [
    {
     "name": "stdout",
     "output_type": "stream",
     "text": [
      "[9 2 1 ... 8 1 5]\n"
     ]
    }
   ],
   "source": [
    "test_y=model.predict_classes([test_x])\n",
    "print(test_y)"
   ]
  },
  {
   "cell_type": "markdown",
   "metadata": {},
   "source": [
    "#### >>Save the predicted result in pickle file"
   ]
  },
  {
   "cell_type": "code",
   "execution_count": 33,
   "metadata": {},
   "outputs": [],
   "source": [
    "import pickle\n",
    "pickle_out=open('Akash_Bhardwaj_testY.pickle','wb')\n",
    "pickle.dump(test_y,pickle_out)\n",
    "pickle_out.close()"
   ]
  }
 ],
 "metadata": {
  "kernelspec": {
   "display_name": "Python 3",
   "language": "python",
   "name": "python3"
  },
  "language_info": {
   "codemirror_mode": {
    "name": "ipython",
    "version": 3
   },
   "file_extension": ".py",
   "mimetype": "text/x-python",
   "name": "python",
   "nbconvert_exporter": "python",
   "pygments_lexer": "ipython3",
   "version": "3.6.4"
  }
 },
 "nbformat": 4,
 "nbformat_minor": 2
}
